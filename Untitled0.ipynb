{
  "nbformat": 4,
  "nbformat_minor": 0,
  "metadata": {
    "colab": {
      "name": "Untitled0.ipynb",
      "provenance": [],
      "authorship_tag": "ABX9TyMfIz4k3NmE8lnyrM64E9v7",
      "include_colab_link": true
    },
    "kernelspec": {
      "name": "python3",
      "display_name": "Python 3"
    }
  },
  "cells": [
    {
      "cell_type": "markdown",
      "metadata": {
        "id": "view-in-github",
        "colab_type": "text"
      },
      "source": [
        "<a href=\"https://colab.research.google.com/github/BSougandhika/Aitta/blob/main/Untitled0.ipynb\" target=\"_parent\"><img src=\"https://colab.research.google.com/assets/colab-badge.svg\" alt=\"Open In Colab\"/></a>"
      ]
    },
    {
      "cell_type": "code",
      "metadata": {
        "id": "_s48Zmx8Y9zI"
      },
      "source": [
        "import matplotlib.pyplot as plt\r\n",
        "import numpy as np\r\n",
        "from sklearn import datasets, linear_model\r\n",
        "from sklearn.metrics import mean_squared_error, r2_score\r\n",
        "\r\n",
        "\r\n",
        "\r\n",
        "\r\n"
      ],
      "execution_count": 12,
      "outputs": []
    },
    {
      "cell_type": "code",
      "metadata": {
        "colab": {
          "base_uri": "https://localhost:8080/"
        },
        "id": "9Zqtwx-4adDS",
        "outputId": "6f08b389-4ac0-45fb-f7bb-6ea8324f1dc2"
      },
      "source": [
        "# Load the diabetes dataset\r\n",
        "diabetes_X, diabetes_y = datasets.load_diabetes(return_X_y=True)\r\n",
        "\r\n",
        "print (diabetes_X)"
      ],
      "execution_count": 13,
      "outputs": [
        {
          "output_type": "stream",
          "text": [
            "[[ 0.03807591  0.05068012  0.06169621 ... -0.00259226  0.01990842\n",
            "  -0.01764613]\n",
            " [-0.00188202 -0.04464164 -0.05147406 ... -0.03949338 -0.06832974\n",
            "  -0.09220405]\n",
            " [ 0.08529891  0.05068012  0.04445121 ... -0.00259226  0.00286377\n",
            "  -0.02593034]\n",
            " ...\n",
            " [ 0.04170844  0.05068012 -0.01590626 ... -0.01107952 -0.04687948\n",
            "   0.01549073]\n",
            " [-0.04547248 -0.04464164  0.03906215 ...  0.02655962  0.04452837\n",
            "  -0.02593034]\n",
            " [-0.04547248 -0.04464164 -0.0730303  ... -0.03949338 -0.00421986\n",
            "   0.00306441]]\n"
          ],
          "name": "stdout"
        }
      ]
    },
    {
      "cell_type": "code",
      "metadata": {
        "id": "RrnqPRL1bCs7"
      },
      "source": [
        "# Split the data into training/testing sets\r\n",
        "diabetes_X_train = diabetes_X[:-20]\r\n",
        "diabetes_X_test = diabetes_X[-20:]\r\n"
      ],
      "execution_count": 15,
      "outputs": []
    },
    {
      "cell_type": "code",
      "metadata": {
        "id": "FOXtqRjhbKm9"
      },
      "source": [
        "# Split the targets into training/testing sets\r\n",
        "diabetes_y_train = diabetes_y[:-20]\r\n",
        "diabetes_y_test = diabetes_y[-20:]\r\n"
      ],
      "execution_count": 17,
      "outputs": []
    },
    {
      "cell_type": "code",
      "metadata": {
        "id": "9YGUl6u2bQAb"
      },
      "source": [
        "# Create linear regression object\r\n",
        "regr = linear_model.LinearRegression()\r\n"
      ],
      "execution_count": 20,
      "outputs": []
    },
    {
      "cell_type": "code",
      "metadata": {
        "colab": {
          "base_uri": "https://localhost:8080/"
        },
        "id": "Ge_ix4u3bVcM",
        "outputId": "4c2fa1e8-c6bc-4634-d334-accb64940a78"
      },
      "source": [
        "# Train the model using the training sets\r\n",
        "regr.fit(diabetes_X_train, diabetes_y_train)\r\n"
      ],
      "execution_count": 21,
      "outputs": [
        {
          "output_type": "execute_result",
          "data": {
            "text/plain": [
              "LinearRegression(copy_X=True, fit_intercept=True, n_jobs=None, normalize=False)"
            ]
          },
          "metadata": {
            "tags": []
          },
          "execution_count": 21
        }
      ]
    },
    {
      "cell_type": "code",
      "metadata": {
        "id": "20x4ow7jbZ7T"
      },
      "source": [
        "# Make predictions using the training set\r\n",
        "diabetes_y_pred = regr.predict(diabetes_X_train)"
      ],
      "execution_count": 23,
      "outputs": []
    },
    {
      "cell_type": "code",
      "metadata": {
        "id": "Rt97D8X_bgqT"
      },
      "source": [
        "# Make predictions using the testing set\r\n",
        "diabetes_y_pred = regr.predict(diabetes_X_test)"
      ],
      "execution_count": 24,
      "outputs": []
    },
    {
      "cell_type": "code",
      "metadata": {
        "id": "-UNASJNRbkVr"
      },
      "source": [
        "# Make predictions using the testing set\r\n",
        "diabetes_y_pred = regr.predict(diabetes_X_test)"
      ],
      "execution_count": 25,
      "outputs": []
    },
    {
      "cell_type": "code",
      "metadata": {
        "colab": {
          "base_uri": "https://localhost:8080/"
        },
        "id": "L-fpt_SRbqZk",
        "outputId": "e5132fc2-771f-474a-baf3-e11246bab78e"
      },
      "source": [
        "# Use score method to get accuracy of model\r\n",
        "score = regr.score(diabetes_X_test, diabetes_y_test)\r\n",
        "print(score)"
      ],
      "execution_count": 26,
      "outputs": [
        {
          "output_type": "stream",
          "text": [
            "0.5850753022690574\n"
          ],
          "name": "stdout"
        }
      ]
    }
  ]
}